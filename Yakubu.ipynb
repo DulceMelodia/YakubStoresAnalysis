{
 "cells": [
  {
   "cell_type": "code",
   "execution_count": 50,
   "metadata": {},
   "outputs": [],
   "source": [
    "#importing the needed libaries\n",
    "import pandas as pd\n",
    "import numpy as np"
   ]
  },
  {
   "cell_type": "code",
   "execution_count": 51,
   "metadata": {},
   "outputs": [
    {
     "data": {
      "text/html": [
       "<div>\n",
       "<style scoped>\n",
       "    .dataframe tbody tr th:only-of-type {\n",
       "        vertical-align: middle;\n",
       "    }\n",
       "\n",
       "    .dataframe tbody tr th {\n",
       "        vertical-align: top;\n",
       "    }\n",
       "\n",
       "    .dataframe thead th {\n",
       "        text-align: right;\n",
       "    }\n",
       "</style>\n",
       "<table border=\"1\" class=\"dataframe\">\n",
       "  <thead>\n",
       "    <tr style=\"text-align: right;\">\n",
       "      <th></th>\n",
       "      <th>EmployeeNo</th>\n",
       "      <th>Division</th>\n",
       "      <th>Qualification</th>\n",
       "      <th>Gender</th>\n",
       "      <th>Channel_of_Recruitment</th>\n",
       "      <th>Trainings_Attended</th>\n",
       "      <th>Year_of_birth</th>\n",
       "      <th>Last_performance_score</th>\n",
       "      <th>Year_of_recruitment</th>\n",
       "      <th>Targets_met</th>\n",
       "      <th>Previous_Award</th>\n",
       "      <th>Training_score_average</th>\n",
       "      <th>State_Of_Origin</th>\n",
       "      <th>Foreign_schooled</th>\n",
       "      <th>Marital_Status</th>\n",
       "      <th>Past_Disciplinary_Action</th>\n",
       "      <th>Previous_IntraDepartmental_Movement</th>\n",
       "      <th>No_of_previous_employers</th>\n",
       "      <th>Promoted_or_Not</th>\n",
       "    </tr>\n",
       "  </thead>\n",
       "  <tbody>\n",
       "    <tr>\n",
       "      <th>0</th>\n",
       "      <td>YAK/S/00001</td>\n",
       "      <td>Commercial Sales and Marketing</td>\n",
       "      <td>MSc, MBA and PhD</td>\n",
       "      <td>Female</td>\n",
       "      <td>Direct Internal process</td>\n",
       "      <td>2</td>\n",
       "      <td>1986</td>\n",
       "      <td>12.5</td>\n",
       "      <td>2011</td>\n",
       "      <td>1</td>\n",
       "      <td>0</td>\n",
       "      <td>41</td>\n",
       "      <td>ANAMBRA</td>\n",
       "      <td>No</td>\n",
       "      <td>Married</td>\n",
       "      <td>No</td>\n",
       "      <td>No</td>\n",
       "      <td>0</td>\n",
       "      <td>0</td>\n",
       "    </tr>\n",
       "    <tr>\n",
       "      <th>1</th>\n",
       "      <td>YAK/S/00002</td>\n",
       "      <td>Customer Support and Field Operations</td>\n",
       "      <td>First Degree or HND</td>\n",
       "      <td>Male</td>\n",
       "      <td>Agency and others</td>\n",
       "      <td>2</td>\n",
       "      <td>1991</td>\n",
       "      <td>12.5</td>\n",
       "      <td>2015</td>\n",
       "      <td>0</td>\n",
       "      <td>0</td>\n",
       "      <td>52</td>\n",
       "      <td>ANAMBRA</td>\n",
       "      <td>Yes</td>\n",
       "      <td>Married</td>\n",
       "      <td>No</td>\n",
       "      <td>No</td>\n",
       "      <td>0</td>\n",
       "      <td>0</td>\n",
       "    </tr>\n",
       "    <tr>\n",
       "      <th>2</th>\n",
       "      <td>YAK/S/00003</td>\n",
       "      <td>Commercial Sales and Marketing</td>\n",
       "      <td>First Degree or HND</td>\n",
       "      <td>Male</td>\n",
       "      <td>Direct Internal process</td>\n",
       "      <td>2</td>\n",
       "      <td>1987</td>\n",
       "      <td>7.5</td>\n",
       "      <td>2012</td>\n",
       "      <td>0</td>\n",
       "      <td>0</td>\n",
       "      <td>42</td>\n",
       "      <td>KATSINA</td>\n",
       "      <td>Yes</td>\n",
       "      <td>Married</td>\n",
       "      <td>No</td>\n",
       "      <td>No</td>\n",
       "      <td>0</td>\n",
       "      <td>0</td>\n",
       "    </tr>\n",
       "    <tr>\n",
       "      <th>3</th>\n",
       "      <td>YAK/S/00004</td>\n",
       "      <td>Commercial Sales and Marketing</td>\n",
       "      <td>First Degree or HND</td>\n",
       "      <td>Male</td>\n",
       "      <td>Agency and others</td>\n",
       "      <td>3</td>\n",
       "      <td>1982</td>\n",
       "      <td>2.5</td>\n",
       "      <td>2009</td>\n",
       "      <td>0</td>\n",
       "      <td>0</td>\n",
       "      <td>42</td>\n",
       "      <td>NIGER</td>\n",
       "      <td>Yes</td>\n",
       "      <td>Single</td>\n",
       "      <td>No</td>\n",
       "      <td>No</td>\n",
       "      <td>1</td>\n",
       "      <td>0</td>\n",
       "    </tr>\n",
       "    <tr>\n",
       "      <th>4</th>\n",
       "      <td>YAK/S/00006</td>\n",
       "      <td>Information and Strategy</td>\n",
       "      <td>First Degree or HND</td>\n",
       "      <td>Male</td>\n",
       "      <td>Direct Internal process</td>\n",
       "      <td>3</td>\n",
       "      <td>1990</td>\n",
       "      <td>7.5</td>\n",
       "      <td>2012</td>\n",
       "      <td>0</td>\n",
       "      <td>0</td>\n",
       "      <td>77</td>\n",
       "      <td>AKWA IBOM</td>\n",
       "      <td>Yes</td>\n",
       "      <td>Married</td>\n",
       "      <td>No</td>\n",
       "      <td>No</td>\n",
       "      <td>1</td>\n",
       "      <td>0</td>\n",
       "    </tr>\n",
       "  </tbody>\n",
       "</table>\n",
       "</div>"
      ],
      "text/plain": [
       "    EmployeeNo                               Division        Qualification  \\\n",
       "0  YAK/S/00001         Commercial Sales and Marketing     MSc, MBA and PhD   \n",
       "1  YAK/S/00002  Customer Support and Field Operations  First Degree or HND   \n",
       "2  YAK/S/00003         Commercial Sales and Marketing  First Degree or HND   \n",
       "3  YAK/S/00004         Commercial Sales and Marketing  First Degree or HND   \n",
       "4  YAK/S/00006               Information and Strategy  First Degree or HND   \n",
       "\n",
       "   Gender   Channel_of_Recruitment  Trainings_Attended  Year_of_birth  \\\n",
       "0  Female  Direct Internal process                   2           1986   \n",
       "1    Male        Agency and others                   2           1991   \n",
       "2    Male  Direct Internal process                   2           1987   \n",
       "3    Male        Agency and others                   3           1982   \n",
       "4    Male  Direct Internal process                   3           1990   \n",
       "\n",
       "   Last_performance_score  Year_of_recruitment  Targets_met  Previous_Award  \\\n",
       "0                    12.5                 2011            1               0   \n",
       "1                    12.5                 2015            0               0   \n",
       "2                     7.5                 2012            0               0   \n",
       "3                     2.5                 2009            0               0   \n",
       "4                     7.5                 2012            0               0   \n",
       "\n",
       "   Training_score_average State_Of_Origin Foreign_schooled Marital_Status  \\\n",
       "0                      41         ANAMBRA               No        Married   \n",
       "1                      52         ANAMBRA              Yes        Married   \n",
       "2                      42         KATSINA              Yes        Married   \n",
       "3                      42           NIGER              Yes         Single   \n",
       "4                      77       AKWA IBOM              Yes        Married   \n",
       "\n",
       "  Past_Disciplinary_Action Previous_IntraDepartmental_Movement  \\\n",
       "0                       No                                  No   \n",
       "1                       No                                  No   \n",
       "2                       No                                  No   \n",
       "3                       No                                  No   \n",
       "4                       No                                  No   \n",
       "\n",
       "  No_of_previous_employers  Promoted_or_Not  \n",
       "0                        0                0  \n",
       "1                        0                0  \n",
       "2                        0                0  \n",
       "3                        1                0  \n",
       "4                        1                0  "
      ]
     },
     "execution_count": 51,
     "metadata": {},
     "output_type": "execute_result"
    }
   ],
   "source": [
    "#reading the data\n",
    "data = pd.read_csv('train.csv')\n",
    "data.head()"
   ]
  },
  {
   "cell_type": "code",
   "execution_count": 52,
   "metadata": {},
   "outputs": [
    {
     "data": {
      "text/html": [
       "<div>\n",
       "<style scoped>\n",
       "    .dataframe tbody tr th:only-of-type {\n",
       "        vertical-align: middle;\n",
       "    }\n",
       "\n",
       "    .dataframe tbody tr th {\n",
       "        vertical-align: top;\n",
       "    }\n",
       "\n",
       "    .dataframe thead th {\n",
       "        text-align: right;\n",
       "    }\n",
       "</style>\n",
       "<table border=\"1\" class=\"dataframe\">\n",
       "  <thead>\n",
       "    <tr style=\"text-align: right;\">\n",
       "      <th></th>\n",
       "      <th>Trainings_Attended</th>\n",
       "      <th>Year_of_birth</th>\n",
       "      <th>Last_performance_score</th>\n",
       "      <th>Year_of_recruitment</th>\n",
       "      <th>Targets_met</th>\n",
       "      <th>Previous_Award</th>\n",
       "      <th>Training_score_average</th>\n",
       "      <th>Promoted_or_Not</th>\n",
       "    </tr>\n",
       "  </thead>\n",
       "  <tbody>\n",
       "    <tr>\n",
       "      <th>Trainings_Attended</th>\n",
       "      <td>1.000000</td>\n",
       "      <td>0.078710</td>\n",
       "      <td>-0.062042</td>\n",
       "      <td>0.056215</td>\n",
       "      <td>-0.044789</td>\n",
       "      <td>-0.007409</td>\n",
       "      <td>0.041065</td>\n",
       "      <td>-0.024345</td>\n",
       "    </tr>\n",
       "    <tr>\n",
       "      <th>Year_of_birth</th>\n",
       "      <td>0.078710</td>\n",
       "      <td>1.000000</td>\n",
       "      <td>-0.175572</td>\n",
       "      <td>0.654666</td>\n",
       "      <td>0.025337</td>\n",
       "      <td>0.013627</td>\n",
       "      <td>0.048390</td>\n",
       "      <td>0.017991</td>\n",
       "    </tr>\n",
       "    <tr>\n",
       "      <th>Last_performance_score</th>\n",
       "      <td>-0.062042</td>\n",
       "      <td>-0.175572</td>\n",
       "      <td>1.000000</td>\n",
       "      <td>-0.190333</td>\n",
       "      <td>0.276350</td>\n",
       "      <td>0.026587</td>\n",
       "      <td>0.057836</td>\n",
       "      <td>0.119690</td>\n",
       "    </tr>\n",
       "    <tr>\n",
       "      <th>Year_of_recruitment</th>\n",
       "      <td>0.056215</td>\n",
       "      <td>0.654666</td>\n",
       "      <td>-0.190333</td>\n",
       "      <td>1.000000</td>\n",
       "      <td>0.076910</td>\n",
       "      <td>0.041995</td>\n",
       "      <td>0.037477</td>\n",
       "      <td>0.012287</td>\n",
       "    </tr>\n",
       "    <tr>\n",
       "      <th>Targets_met</th>\n",
       "      <td>-0.044789</td>\n",
       "      <td>0.025337</td>\n",
       "      <td>0.276350</td>\n",
       "      <td>0.076910</td>\n",
       "      <td>1.000000</td>\n",
       "      <td>0.092934</td>\n",
       "      <td>0.077201</td>\n",
       "      <td>0.224518</td>\n",
       "    </tr>\n",
       "    <tr>\n",
       "      <th>Previous_Award</th>\n",
       "      <td>-0.007409</td>\n",
       "      <td>0.013627</td>\n",
       "      <td>0.026587</td>\n",
       "      <td>0.041995</td>\n",
       "      <td>0.092934</td>\n",
       "      <td>1.000000</td>\n",
       "      <td>0.072360</td>\n",
       "      <td>0.201434</td>\n",
       "    </tr>\n",
       "    <tr>\n",
       "      <th>Training_score_average</th>\n",
       "      <td>0.041065</td>\n",
       "      <td>0.048390</td>\n",
       "      <td>0.057836</td>\n",
       "      <td>0.037477</td>\n",
       "      <td>0.077201</td>\n",
       "      <td>0.072360</td>\n",
       "      <td>1.000000</td>\n",
       "      <td>0.178448</td>\n",
       "    </tr>\n",
       "    <tr>\n",
       "      <th>Promoted_or_Not</th>\n",
       "      <td>-0.024345</td>\n",
       "      <td>0.017991</td>\n",
       "      <td>0.119690</td>\n",
       "      <td>0.012287</td>\n",
       "      <td>0.224518</td>\n",
       "      <td>0.201434</td>\n",
       "      <td>0.178448</td>\n",
       "      <td>1.000000</td>\n",
       "    </tr>\n",
       "  </tbody>\n",
       "</table>\n",
       "</div>"
      ],
      "text/plain": [
       "                        Trainings_Attended  Year_of_birth  \\\n",
       "Trainings_Attended                1.000000       0.078710   \n",
       "Year_of_birth                     0.078710       1.000000   \n",
       "Last_performance_score           -0.062042      -0.175572   \n",
       "Year_of_recruitment               0.056215       0.654666   \n",
       "Targets_met                      -0.044789       0.025337   \n",
       "Previous_Award                   -0.007409       0.013627   \n",
       "Training_score_average            0.041065       0.048390   \n",
       "Promoted_or_Not                  -0.024345       0.017991   \n",
       "\n",
       "                        Last_performance_score  Year_of_recruitment  \\\n",
       "Trainings_Attended                   -0.062042             0.056215   \n",
       "Year_of_birth                        -0.175572             0.654666   \n",
       "Last_performance_score                1.000000            -0.190333   \n",
       "Year_of_recruitment                  -0.190333             1.000000   \n",
       "Targets_met                           0.276350             0.076910   \n",
       "Previous_Award                        0.026587             0.041995   \n",
       "Training_score_average                0.057836             0.037477   \n",
       "Promoted_or_Not                       0.119690             0.012287   \n",
       "\n",
       "                        Targets_met  Previous_Award  Training_score_average  \\\n",
       "Trainings_Attended        -0.044789       -0.007409                0.041065   \n",
       "Year_of_birth              0.025337        0.013627                0.048390   \n",
       "Last_performance_score     0.276350        0.026587                0.057836   \n",
       "Year_of_recruitment        0.076910        0.041995                0.037477   \n",
       "Targets_met                1.000000        0.092934                0.077201   \n",
       "Previous_Award             0.092934        1.000000                0.072360   \n",
       "Training_score_average     0.077201        0.072360                1.000000   \n",
       "Promoted_or_Not            0.224518        0.201434                0.178448   \n",
       "\n",
       "                        Promoted_or_Not  \n",
       "Trainings_Attended            -0.024345  \n",
       "Year_of_birth                  0.017991  \n",
       "Last_performance_score         0.119690  \n",
       "Year_of_recruitment            0.012287  \n",
       "Targets_met                    0.224518  \n",
       "Previous_Award                 0.201434  \n",
       "Training_score_average         0.178448  \n",
       "Promoted_or_Not                1.000000  "
      ]
     },
     "execution_count": 52,
     "metadata": {},
     "output_type": "execute_result"
    }
   ],
   "source": [
    "#checking for correlation between the factors and promotion\n",
    "data.corr()"
   ]
  },
  {
   "cell_type": "code",
   "execution_count": 53,
   "metadata": {},
   "outputs": [
    {
     "name": "stdout",
     "output_type": "stream",
     "text": [
      "<class 'pandas.core.frame.DataFrame'>\n",
      "RangeIndex: 38312 entries, 0 to 38311\n",
      "Data columns (total 19 columns):\n",
      " #   Column                               Non-Null Count  Dtype  \n",
      "---  ------                               --------------  -----  \n",
      " 0   EmployeeNo                           38312 non-null  object \n",
      " 1   Division                             38312 non-null  object \n",
      " 2   Qualification                        36633 non-null  object \n",
      " 3   Gender                               38312 non-null  object \n",
      " 4   Channel_of_Recruitment               38312 non-null  object \n",
      " 5   Trainings_Attended                   38312 non-null  int64  \n",
      " 6   Year_of_birth                        38312 non-null  int64  \n",
      " 7   Last_performance_score               38312 non-null  float64\n",
      " 8   Year_of_recruitment                  38312 non-null  int64  \n",
      " 9   Targets_met                          38312 non-null  int64  \n",
      " 10  Previous_Award                       38312 non-null  int64  \n",
      " 11  Training_score_average               38312 non-null  int64  \n",
      " 12  State_Of_Origin                      38312 non-null  object \n",
      " 13  Foreign_schooled                     38312 non-null  object \n",
      " 14  Marital_Status                       38312 non-null  object \n",
      " 15  Past_Disciplinary_Action             38312 non-null  object \n",
      " 16  Previous_IntraDepartmental_Movement  38312 non-null  object \n",
      " 17  No_of_previous_employers             38312 non-null  object \n",
      " 18  Promoted_or_Not                      38312 non-null  int64  \n",
      "dtypes: float64(1), int64(7), object(11)\n",
      "memory usage: 5.6+ MB\n"
     ]
    }
   ],
   "source": [
    "#checking for null values\n",
    "data.info()"
   ]
  },
  {
   "cell_type": "code",
   "execution_count": 54,
   "metadata": {},
   "outputs": [
    {
     "data": {
      "text/plain": [
       "Male      26880\n",
       "Female    11432\n",
       "Name: Gender, dtype: int64"
      ]
     },
     "execution_count": 54,
     "metadata": {},
     "output_type": "execute_result"
    }
   ],
   "source": [
    "#counting amount of male & female\n",
    "data['Gender'].value_counts()"
   ]
  },
  {
   "cell_type": "code",
   "execution_count": 55,
   "metadata": {},
   "outputs": [
    {
     "data": {
      "text/plain": [
       "0    35071\n",
       "1     3241\n",
       "Name: Promoted_or_Not, dtype: int64"
      ]
     },
     "execution_count": 55,
     "metadata": {},
     "output_type": "execute_result"
    }
   ],
   "source": [
    "#counting amount of promoted & not promoted\n",
    "data['Promoted_or_Not'].value_counts()"
   ]
  },
  {
   "cell_type": "code",
   "execution_count": 56,
   "metadata": {},
   "outputs": [
    {
     "data": {
      "text/plain": [
       "0    0.915405\n",
       "1    0.084595\n",
       "Name: Promoted_or_Not, dtype: float64"
      ]
     },
     "execution_count": 56,
     "metadata": {},
     "output_type": "execute_result"
    }
   ],
   "source": [
    "# percentage of people promoted and not promoted\n",
    "data['Promoted_or_Not'].value_counts(normalize = True)"
   ]
  },
  {
   "cell_type": "code",
   "execution_count": 61,
   "metadata": {},
   "outputs": [
    {
     "data": {
      "text/plain": [
       "Male      0.701608\n",
       "Female    0.298392\n",
       "Name: Gender, dtype: float64"
      ]
     },
     "execution_count": 61,
     "metadata": {},
     "output_type": "execute_result"
    }
   ],
   "source": [
    "#% of female and male in the pop\n",
    "data['Gender'].value_counts(normalize=True)"
   ]
  },
  {
   "cell_type": "code",
   "execution_count": 63,
   "metadata": {},
   "outputs": [
    {
     "data": {
      "text/plain": [
       "Male      0.685899\n",
       "Female    0.314101\n",
       "Name: Gender, dtype: float64"
      ]
     },
     "execution_count": 63,
     "metadata": {},
     "output_type": "execute_result"
    }
   ],
   "source": [
    "#% of male and female that were promoted\n",
    "data[data['Promoted_or_Not']==1]['Gender'].value_counts(normalize=True)"
   ]
  },
  {
   "cell_type": "code",
   "execution_count": 64,
   "metadata": {},
   "outputs": [
    {
     "data": {
      "text/plain": [
       "Male      0.70306\n",
       "Female    0.29694\n",
       "Name: Gender, dtype: float64"
      ]
     },
     "execution_count": 64,
     "metadata": {},
     "output_type": "execute_result"
    }
   ],
   "source": [
    "#% of male and female that were'nt promoted\n",
    "data[data['Promoted_or_Not']==0]['Gender'].value_counts(normalize=True)"
   ]
  },
  {
   "cell_type": "markdown",
   "metadata": {},
   "source": [
    "ANALYSIS"
   ]
  },
  {
   "cell_type": "code",
   "execution_count": 65,
   "metadata": {},
   "outputs": [
    {
     "data": {
      "text/plain": [
       "First Degree or HND         0.663185\n",
       "MSc, MBA and PhD            0.320355\n",
       "Non-University Education    0.016461\n",
       "Name: Qualification, dtype: float64"
      ]
     },
     "execution_count": 65,
     "metadata": {},
     "output_type": "execute_result"
    }
   ],
   "source": [
    "data[data['Promoted_or_Not']==1]['Qualification'].value_counts(normalize=True)"
   ]
  },
  {
   "cell_type": "code",
   "execution_count": 66,
   "metadata": {},
   "outputs": [
    {
     "data": {
      "text/plain": [
       "First Degree or HND         0.701530\n",
       "MSc, MBA and PhD            0.282518\n",
       "Non-University Education    0.015953\n",
       "Name: Qualification, dtype: float64"
      ]
     },
     "execution_count": 66,
     "metadata": {},
     "output_type": "execute_result"
    }
   ],
   "source": [
    "data[data['Promoted_or_Not']==0]['Qualification'].value_counts(normalize=True)"
   ]
  },
  {
   "cell_type": "code",
   "execution_count": 67,
   "metadata": {},
   "outputs": [
    {
     "data": {
      "text/plain": [
       "2    0.838322\n",
       "3    0.126813\n",
       "4    0.028386\n",
       "5    0.005245\n",
       "7    0.000617\n",
       "6    0.000617\n",
       "Name: Trainings_Attended, dtype: float64"
      ]
     },
     "execution_count": 67,
     "metadata": {},
     "output_type": "execute_result"
    }
   ],
   "source": [
    "data[data['Promoted_or_Not']==1]['Trainings_Attended'].value_counts(normalize=True)"
   ]
  },
  {
   "cell_type": "code",
   "execution_count": 68,
   "metadata": {},
   "outputs": [
    {
     "data": {
      "text/plain": [
       "Agency and others                  0.554150\n",
       "Direct Internal process            0.415612\n",
       "Referral and Special candidates    0.030238\n",
       "Name: Channel_of_Recruitment, dtype: float64"
      ]
     },
     "execution_count": 68,
     "metadata": {},
     "output_type": "execute_result"
    }
   ],
   "source": [
    "data[data['Promoted_or_Not']==1]['Channel_of_Recruitment'].value_counts(normalize=True)"
   ]
  },
  {
   "cell_type": "code",
   "execution_count": 69,
   "metadata": {},
   "outputs": [
    {
     "data": {
      "text/plain": [
       "1991    0.072508\n",
       "1993    0.066955\n",
       "1988    0.066338\n",
       "1990    0.065103\n",
       "1989    0.062944\n",
       "1992    0.062326\n",
       "1987    0.061092\n",
       "1986    0.058932\n",
       "1994    0.055230\n",
       "1985    0.045973\n",
       "1984    0.040420\n",
       "1983    0.038877\n",
       "1982    0.036100\n",
       "1995    0.036100\n",
       "1981    0.024067\n",
       "1980    0.021598\n",
       "1979    0.019130\n",
       "1978    0.017896\n",
       "1997    0.016353\n",
       "1996    0.013885\n",
       "1977    0.013576\n",
       "1976    0.011108\n",
       "1975    0.010799\n",
       "1973    0.009256\n",
       "1998    0.008022\n",
       "1972    0.007405\n",
       "1971    0.007097\n",
       "1974    0.006171\n",
       "1969    0.006171\n",
       "1970    0.005862\n",
       "1965    0.004937\n",
       "1967    0.004628\n",
       "1999    0.004011\n",
       "1963    0.003703\n",
       "1968    0.003085\n",
       "1962    0.003085\n",
       "1966    0.003085\n",
       "1961    0.002468\n",
       "2000    0.001234\n",
       "1964    0.001234\n",
       "2001    0.000617\n",
       "1956    0.000309\n",
       "1952    0.000309\n",
       "Name: Year_of_birth, dtype: float64"
      ]
     },
     "execution_count": 69,
     "metadata": {},
     "output_type": "execute_result"
    }
   ],
   "source": [
    "data[data['Promoted_or_Not']==1]['Year_of_birth'].value_counts(normalize=True)"
   ]
  },
  {
   "cell_type": "code",
   "execution_count": 70,
   "metadata": {},
   "outputs": [
    {
     "data": {
      "text/plain": [
       "1991    0.065838\n",
       "1990    0.065439\n",
       "1989    0.063785\n",
       "1992    0.062103\n",
       "1988    0.058538\n",
       "1993    0.057027\n",
       "1987    0.055858\n",
       "1994    0.051496\n",
       "1986    0.048216\n",
       "1985    0.046106\n",
       "1984    0.039178\n",
       "1995    0.037039\n",
       "1983    0.034673\n",
       "1981    0.030909\n",
       "1982    0.030738\n",
       "1996    0.024664\n",
       "1980    0.023467\n",
       "1979    0.020957\n",
       "1978    0.017878\n",
       "1977    0.015854\n",
       "1997    0.015483\n",
       "1976    0.014684\n",
       "1975    0.013487\n",
       "1974    0.010664\n",
       "1973    0.010464\n",
       "1971    0.009409\n",
       "1972    0.008212\n",
       "1998    0.007955\n",
       "1970    0.006758\n",
       "1969    0.006530\n",
       "1968    0.006359\n",
       "1966    0.005617\n",
       "1967    0.005132\n",
       "1964    0.004676\n",
       "1965    0.004619\n",
       "1999    0.004391\n",
       "1963    0.004249\n",
       "1961    0.003963\n",
       "1962    0.003536\n",
       "2001    0.001967\n",
       "2000    0.001768\n",
       "1957    0.000114\n",
       "1958    0.000086\n",
       "1960    0.000029\n",
       "1955    0.000029\n",
       "1950    0.000029\n",
       "1959    0.000029\n",
       "Name: Year_of_birth, dtype: float64"
      ]
     },
     "execution_count": 70,
     "metadata": {},
     "output_type": "execute_result"
    }
   ],
   "source": [
    "data[data['Promoted_or_Not']==0]['Year_of_birth'].value_counts(normalize=True)"
   ]
  },
  {
   "cell_type": "code",
   "execution_count": 71,
   "metadata": {},
   "outputs": [
    {
     "data": {
      "text/plain": [
       "12.5    0.400802\n",
       "7.5     0.288183\n",
       "10.0    0.174329\n",
       "0.0     0.075902\n",
       "5.0     0.042579\n",
       "2.5     0.018204\n",
       "Name: Last_performance_score, dtype: float64"
      ]
     },
     "execution_count": 71,
     "metadata": {},
     "output_type": "execute_result"
    }
   ],
   "source": [
    "data[data['Promoted_or_Not']==1]['Last_performance_score'].value_counts(normalize=True)"
   ]
  },
  {
   "cell_type": "code",
   "execution_count": 72,
   "metadata": {},
   "outputs": [
    {
     "data": {
      "text/plain": [
       "1    0.705955\n",
       "0    0.294045\n",
       "Name: Targets_met, dtype: float64"
      ]
     },
     "execution_count": 72,
     "metadata": {},
     "output_type": "execute_result"
    }
   ],
   "source": [
    "data[data['Promoted_or_Not']==1]['Targets_met'].value_counts(normalize=True)"
   ]
  },
  {
   "cell_type": "code",
   "execution_count": 73,
   "metadata": {},
   "outputs": [
    {
     "data": {
      "text/plain": [
       "0    0.877198\n",
       "1    0.122802\n",
       "Name: Previous_Award, dtype: float64"
      ]
     },
     "execution_count": 73,
     "metadata": {},
     "output_type": "execute_result"
    }
   ],
   "source": [
    "data[data['Promoted_or_Not']==1]['Previous_Award'].value_counts(normalize=True)"
   ]
  },
  {
   "cell_type": "code",
   "execution_count": 74,
   "metadata": {},
   "outputs": [
    {
     "data": {
      "text/plain": [
       "0    0.877198\n",
       "1    0.122802\n",
       "Name: Previous_Award, dtype: float64"
      ]
     },
     "execution_count": 74,
     "metadata": {},
     "output_type": "execute_result"
    }
   ],
   "source": [
    "data[data['Promoted_or_Not']==1]['Previous_Award'].value_counts(normalize=True)"
   ]
  },
  {
   "cell_type": "code",
   "execution_count": 75,
   "metadata": {},
   "outputs": [
    {
     "data": {
      "text/plain": [
       "7.698958550845688"
      ]
     },
     "execution_count": 75,
     "metadata": {},
     "output_type": "execute_result"
    }
   ],
   "source": [
    "data['Last_performance_score'].mean()"
   ]
  },
  {
   "cell_type": "code",
   "execution_count": 77,
   "metadata": {},
   "outputs": [
    {
     "data": {
      "text/plain": [
       "12.5    0.388790\n",
       "7.5     0.246747\n",
       "10.0    0.208592\n",
       "0.0     0.075052\n",
       "5.0     0.040521\n",
       "2.5     0.040299\n",
       "Name: Last_performance_score, dtype: float64"
      ]
     },
     "execution_count": 77,
     "metadata": {},
     "output_type": "execute_result"
    }
   ],
   "source": [
    "# comparing Targets met to last performance score\n",
    "data[data['Targets_met']==1]['Last_performance_score'].value_counts(normalize=True)"
   ]
  },
  {
   "cell_type": "code",
   "execution_count": 79,
   "metadata": {},
   "outputs": [
    {
     "data": {
      "text/plain": [
       "2    0.829193\n",
       "3    0.135389\n",
       "4    0.028172\n",
       "5    0.005472\n",
       "6    0.000887\n",
       "7    0.000444\n",
       "8    0.000296\n",
       "9    0.000148\n",
       "Name: Trainings_Attended, dtype: float64"
      ]
     },
     "execution_count": 79,
     "metadata": {},
     "output_type": "execute_result"
    }
   ],
   "source": [
    "# comparing Targets met to Trainings_Attended\n",
    "data[data['Targets_met']==1]['Trainings_Attended'].value_counts(normalize=True)"
   ]
  },
  {
   "cell_type": "code",
   "execution_count": 80,
   "metadata": {},
   "outputs": [
    {
     "data": {
      "text/plain": [
       "Agency and others                  0.551020\n",
       "Direct Internal process            0.419107\n",
       "Referral and Special candidates    0.029873\n",
       "Name: Channel_of_Recruitment, dtype: float64"
      ]
     },
     "execution_count": 80,
     "metadata": {},
     "output_type": "execute_result"
    }
   ],
   "source": [
    "# comparing Targets met to Channel_of_Recruitment\n",
    "data[data['Targets_met']==1]['Channel_of_Recruitment'].value_counts(normalize=True)"
   ]
  },
  {
   "cell_type": "code",
   "execution_count": 81,
   "metadata": {},
   "outputs": [
    {
     "data": {
      "text/plain": [
       "First Degree or HND         0.694966\n",
       "MSc, MBA and PhD            0.287109\n",
       "Non-University Education    0.017925\n",
       "Name: Qualification, dtype: float64"
      ]
     },
     "execution_count": 81,
     "metadata": {},
     "output_type": "execute_result"
    }
   ],
   "source": [
    "# comparing Targets met to Qualification\n",
    "data[data['Targets_met']==1]['Qualification'].value_counts(normalize=True)"
   ]
  },
  {
   "cell_type": "code",
   "execution_count": 82,
   "metadata": {},
   "outputs": [
    {
     "data": {
      "text/plain": [
       "0    0.957927\n",
       "1    0.042073\n",
       "Name: Previous_Award, dtype: float64"
      ]
     },
     "execution_count": 82,
     "metadata": {},
     "output_type": "execute_result"
    }
   ],
   "source": [
    "# comparing Targets met to Previous_Award\n",
    "data[data['Targets_met']==1]['Previous_Award'].value_counts(normalize=True)"
   ]
  },
  {
   "cell_type": "code",
   "execution_count": 83,
   "metadata": {},
   "outputs": [
    {
     "data": {
      "text/html": [
       "<div>\n",
       "<style scoped>\n",
       "    .dataframe tbody tr th:only-of-type {\n",
       "        vertical-align: middle;\n",
       "    }\n",
       "\n",
       "    .dataframe tbody tr th {\n",
       "        vertical-align: top;\n",
       "    }\n",
       "\n",
       "    .dataframe thead th {\n",
       "        text-align: right;\n",
       "    }\n",
       "</style>\n",
       "<table border=\"1\" class=\"dataframe\">\n",
       "  <thead>\n",
       "    <tr style=\"text-align: right;\">\n",
       "      <th></th>\n",
       "      <th>EmployeeNo</th>\n",
       "      <th>Division</th>\n",
       "      <th>Qualification</th>\n",
       "      <th>Gender</th>\n",
       "      <th>Channel_of_Recruitment</th>\n",
       "      <th>Trainings_Attended</th>\n",
       "      <th>Year_of_birth</th>\n",
       "      <th>Last_performance_score</th>\n",
       "      <th>Year_of_recruitment</th>\n",
       "      <th>Targets_met</th>\n",
       "      <th>Previous_Award</th>\n",
       "      <th>Training_score_average</th>\n",
       "      <th>State_Of_Origin</th>\n",
       "      <th>Foreign_schooled</th>\n",
       "      <th>Marital_Status</th>\n",
       "      <th>Past_Disciplinary_Action</th>\n",
       "      <th>Previous_IntraDepartmental_Movement</th>\n",
       "      <th>No_of_previous_employers</th>\n",
       "      <th>Promoted_or_Not</th>\n",
       "    </tr>\n",
       "  </thead>\n",
       "  <tbody>\n",
       "    <tr>\n",
       "      <th>4803</th>\n",
       "      <td>YAK/S/06774</td>\n",
       "      <td>Information Technology and Solution Support</td>\n",
       "      <td>First Degree or HND</td>\n",
       "      <td>Female</td>\n",
       "      <td>Direct Internal process</td>\n",
       "      <td>2</td>\n",
       "      <td>1993</td>\n",
       "      <td>12.5</td>\n",
       "      <td>2017</td>\n",
       "      <td>1</td>\n",
       "      <td>0</td>\n",
       "      <td>91</td>\n",
       "      <td>OGUN</td>\n",
       "      <td>Yes</td>\n",
       "      <td>Married</td>\n",
       "      <td>No</td>\n",
       "      <td>No</td>\n",
       "      <td>1</td>\n",
       "      <td>1</td>\n",
       "    </tr>\n",
       "    <tr>\n",
       "      <th>8017</th>\n",
       "      <td>YAK/S/11341</td>\n",
       "      <td>Customer Support and Field Operations</td>\n",
       "      <td>First Degree or HND</td>\n",
       "      <td>Male</td>\n",
       "      <td>Direct Internal process</td>\n",
       "      <td>2</td>\n",
       "      <td>1990</td>\n",
       "      <td>12.5</td>\n",
       "      <td>2012</td>\n",
       "      <td>1</td>\n",
       "      <td>1</td>\n",
       "      <td>91</td>\n",
       "      <td>OSUN</td>\n",
       "      <td>Yes</td>\n",
       "      <td>Married</td>\n",
       "      <td>No</td>\n",
       "      <td>No</td>\n",
       "      <td>1</td>\n",
       "      <td>1</td>\n",
       "    </tr>\n",
       "    <tr>\n",
       "      <th>14278</th>\n",
       "      <td>YAK/S/20333</td>\n",
       "      <td>Customer Support and Field Operations</td>\n",
       "      <td>First Degree or HND</td>\n",
       "      <td>Male</td>\n",
       "      <td>Agency and others</td>\n",
       "      <td>2</td>\n",
       "      <td>1987</td>\n",
       "      <td>12.5</td>\n",
       "      <td>2014</td>\n",
       "      <td>1</td>\n",
       "      <td>1</td>\n",
       "      <td>91</td>\n",
       "      <td>LAGOS</td>\n",
       "      <td>Yes</td>\n",
       "      <td>Married</td>\n",
       "      <td>No</td>\n",
       "      <td>No</td>\n",
       "      <td>1</td>\n",
       "      <td>1</td>\n",
       "    </tr>\n",
       "    <tr>\n",
       "      <th>15983</th>\n",
       "      <td>YAK/S/22812</td>\n",
       "      <td>Commercial Sales and Marketing</td>\n",
       "      <td>First Degree or HND</td>\n",
       "      <td>Male</td>\n",
       "      <td>Direct Internal process</td>\n",
       "      <td>2</td>\n",
       "      <td>1992</td>\n",
       "      <td>12.5</td>\n",
       "      <td>2014</td>\n",
       "      <td>1</td>\n",
       "      <td>0</td>\n",
       "      <td>91</td>\n",
       "      <td>FCT</td>\n",
       "      <td>Yes</td>\n",
       "      <td>Married</td>\n",
       "      <td>No</td>\n",
       "      <td>No</td>\n",
       "      <td>1</td>\n",
       "      <td>1</td>\n",
       "    </tr>\n",
       "    <tr>\n",
       "      <th>27444</th>\n",
       "      <td>YAK/S/39166</td>\n",
       "      <td>Information and Strategy</td>\n",
       "      <td>First Degree or HND</td>\n",
       "      <td>Male</td>\n",
       "      <td>Direct Internal process</td>\n",
       "      <td>2</td>\n",
       "      <td>1991</td>\n",
       "      <td>12.5</td>\n",
       "      <td>2012</td>\n",
       "      <td>1</td>\n",
       "      <td>0</td>\n",
       "      <td>91</td>\n",
       "      <td>FCT</td>\n",
       "      <td>Yes</td>\n",
       "      <td>Married</td>\n",
       "      <td>No</td>\n",
       "      <td>No</td>\n",
       "      <td>2</td>\n",
       "      <td>1</td>\n",
       "    </tr>\n",
       "    <tr>\n",
       "      <th>28793</th>\n",
       "      <td>YAK/S/41102</td>\n",
       "      <td>Sourcing and Purchasing</td>\n",
       "      <td>First Degree or HND</td>\n",
       "      <td>Male</td>\n",
       "      <td>Direct Internal process</td>\n",
       "      <td>2</td>\n",
       "      <td>1985</td>\n",
       "      <td>12.5</td>\n",
       "      <td>2014</td>\n",
       "      <td>1</td>\n",
       "      <td>0</td>\n",
       "      <td>91</td>\n",
       "      <td>PLATEAU</td>\n",
       "      <td>Yes</td>\n",
       "      <td>Married</td>\n",
       "      <td>No</td>\n",
       "      <td>No</td>\n",
       "      <td>1</td>\n",
       "      <td>1</td>\n",
       "    </tr>\n",
       "    <tr>\n",
       "      <th>12616</th>\n",
       "      <td>YAK/S/17945</td>\n",
       "      <td>Customer Support and Field Operations</td>\n",
       "      <td>First Degree or HND</td>\n",
       "      <td>Male</td>\n",
       "      <td>Agency and others</td>\n",
       "      <td>4</td>\n",
       "      <td>1990</td>\n",
       "      <td>12.5</td>\n",
       "      <td>2011</td>\n",
       "      <td>1</td>\n",
       "      <td>0</td>\n",
       "      <td>90</td>\n",
       "      <td>KATSINA</td>\n",
       "      <td>Yes</td>\n",
       "      <td>Married</td>\n",
       "      <td>No</td>\n",
       "      <td>No</td>\n",
       "      <td>1</td>\n",
       "      <td>1</td>\n",
       "    </tr>\n",
       "    <tr>\n",
       "      <th>13458</th>\n",
       "      <td>YAK/S/19153</td>\n",
       "      <td>Research and Innovation</td>\n",
       "      <td>MSc, MBA and PhD</td>\n",
       "      <td>Male</td>\n",
       "      <td>Agency and others</td>\n",
       "      <td>4</td>\n",
       "      <td>1983</td>\n",
       "      <td>12.5</td>\n",
       "      <td>2012</td>\n",
       "      <td>1</td>\n",
       "      <td>0</td>\n",
       "      <td>90</td>\n",
       "      <td>LAGOS</td>\n",
       "      <td>Yes</td>\n",
       "      <td>Married</td>\n",
       "      <td>No</td>\n",
       "      <td>No</td>\n",
       "      <td>1</td>\n",
       "      <td>1</td>\n",
       "    </tr>\n",
       "    <tr>\n",
       "      <th>30174</th>\n",
       "      <td>YAK/S/43085</td>\n",
       "      <td>Business Finance Operations</td>\n",
       "      <td>First Degree or HND</td>\n",
       "      <td>Male</td>\n",
       "      <td>Agency and others</td>\n",
       "      <td>3</td>\n",
       "      <td>1990</td>\n",
       "      <td>12.5</td>\n",
       "      <td>2013</td>\n",
       "      <td>1</td>\n",
       "      <td>1</td>\n",
       "      <td>90</td>\n",
       "      <td>EBONYI</td>\n",
       "      <td>No</td>\n",
       "      <td>Married</td>\n",
       "      <td>No</td>\n",
       "      <td>No</td>\n",
       "      <td>0</td>\n",
       "      <td>1</td>\n",
       "    </tr>\n",
       "    <tr>\n",
       "      <th>6507</th>\n",
       "      <td>YAK/S/09216</td>\n",
       "      <td>Information Technology and Solution Support</td>\n",
       "      <td>First Degree or HND</td>\n",
       "      <td>Male</td>\n",
       "      <td>Direct Internal process</td>\n",
       "      <td>2</td>\n",
       "      <td>1993</td>\n",
       "      <td>12.5</td>\n",
       "      <td>2016</td>\n",
       "      <td>1</td>\n",
       "      <td>0</td>\n",
       "      <td>90</td>\n",
       "      <td>ANAMBRA</td>\n",
       "      <td>Yes</td>\n",
       "      <td>Single</td>\n",
       "      <td>No</td>\n",
       "      <td>No</td>\n",
       "      <td>2</td>\n",
       "      <td>1</td>\n",
       "    </tr>\n",
       "  </tbody>\n",
       "</table>\n",
       "</div>"
      ],
      "text/plain": [
       "        EmployeeNo                                     Division  \\\n",
       "4803   YAK/S/06774  Information Technology and Solution Support   \n",
       "8017   YAK/S/11341        Customer Support and Field Operations   \n",
       "14278  YAK/S/20333        Customer Support and Field Operations   \n",
       "15983  YAK/S/22812               Commercial Sales and Marketing   \n",
       "27444  YAK/S/39166                     Information and Strategy   \n",
       "28793  YAK/S/41102                      Sourcing and Purchasing   \n",
       "12616  YAK/S/17945        Customer Support and Field Operations   \n",
       "13458  YAK/S/19153                      Research and Innovation   \n",
       "30174  YAK/S/43085                  Business Finance Operations   \n",
       "6507   YAK/S/09216  Information Technology and Solution Support   \n",
       "\n",
       "             Qualification  Gender   Channel_of_Recruitment  \\\n",
       "4803   First Degree or HND  Female  Direct Internal process   \n",
       "8017   First Degree or HND    Male  Direct Internal process   \n",
       "14278  First Degree or HND    Male        Agency and others   \n",
       "15983  First Degree or HND    Male  Direct Internal process   \n",
       "27444  First Degree or HND    Male  Direct Internal process   \n",
       "28793  First Degree or HND    Male  Direct Internal process   \n",
       "12616  First Degree or HND    Male        Agency and others   \n",
       "13458     MSc, MBA and PhD    Male        Agency and others   \n",
       "30174  First Degree or HND    Male        Agency and others   \n",
       "6507   First Degree or HND    Male  Direct Internal process   \n",
       "\n",
       "       Trainings_Attended  Year_of_birth  Last_performance_score  \\\n",
       "4803                    2           1993                    12.5   \n",
       "8017                    2           1990                    12.5   \n",
       "14278                   2           1987                    12.5   \n",
       "15983                   2           1992                    12.5   \n",
       "27444                   2           1991                    12.5   \n",
       "28793                   2           1985                    12.5   \n",
       "12616                   4           1990                    12.5   \n",
       "13458                   4           1983                    12.5   \n",
       "30174                   3           1990                    12.5   \n",
       "6507                    2           1993                    12.5   \n",
       "\n",
       "       Year_of_recruitment  Targets_met  Previous_Award  \\\n",
       "4803                  2017            1               0   \n",
       "8017                  2012            1               1   \n",
       "14278                 2014            1               1   \n",
       "15983                 2014            1               0   \n",
       "27444                 2012            1               0   \n",
       "28793                 2014            1               0   \n",
       "12616                 2011            1               0   \n",
       "13458                 2012            1               0   \n",
       "30174                 2013            1               1   \n",
       "6507                  2016            1               0   \n",
       "\n",
       "       Training_score_average State_Of_Origin Foreign_schooled Marital_Status  \\\n",
       "4803                       91            OGUN              Yes        Married   \n",
       "8017                       91            OSUN              Yes        Married   \n",
       "14278                      91           LAGOS              Yes        Married   \n",
       "15983                      91             FCT              Yes        Married   \n",
       "27444                      91             FCT              Yes        Married   \n",
       "28793                      91         PLATEAU              Yes        Married   \n",
       "12616                      90         KATSINA              Yes        Married   \n",
       "13458                      90           LAGOS              Yes        Married   \n",
       "30174                      90          EBONYI               No        Married   \n",
       "6507                       90         ANAMBRA              Yes         Single   \n",
       "\n",
       "      Past_Disciplinary_Action Previous_IntraDepartmental_Movement  \\\n",
       "4803                        No                                  No   \n",
       "8017                        No                                  No   \n",
       "14278                       No                                  No   \n",
       "15983                       No                                  No   \n",
       "27444                       No                                  No   \n",
       "28793                       No                                  No   \n",
       "12616                       No                                  No   \n",
       "13458                       No                                  No   \n",
       "30174                       No                                  No   \n",
       "6507                        No                                  No   \n",
       "\n",
       "      No_of_previous_employers  Promoted_or_Not  \n",
       "4803                         1                1  \n",
       "8017                         1                1  \n",
       "14278                        1                1  \n",
       "15983                        1                1  \n",
       "27444                        2                1  \n",
       "28793                        1                1  \n",
       "12616                        1                1  \n",
       "13458                        1                1  \n",
       "30174                        0                1  \n",
       "6507                         2                1  "
      ]
     },
     "execution_count": 83,
     "metadata": {},
     "output_type": "execute_result"
    }
   ],
   "source": [
    "#sorting based on possible determining factors for promotion\n",
    "data.sort_values(by=['Targets_met','Last_performance_score','Training_score_average','Trainings_Attended'],ascending=False).head(10)"
   ]
  },
  {
   "cell_type": "code",
   "execution_count": 84,
   "metadata": {},
   "outputs": [],
   "source": [
    "#creating new df that contains only the data we require for promotion\n",
    "promo = data[['Targets_met','Last_performance_score','Qualification','Channel_of_Recruitment','Trainings_Attended','Previous_Award','Promoted_or_Not']]"
   ]
  },
  {
   "cell_type": "code",
   "execution_count": 85,
   "metadata": {},
   "outputs": [
    {
     "data": {
      "text/html": [
       "<div>\n",
       "<style scoped>\n",
       "    .dataframe tbody tr th:only-of-type {\n",
       "        vertical-align: middle;\n",
       "    }\n",
       "\n",
       "    .dataframe tbody tr th {\n",
       "        vertical-align: top;\n",
       "    }\n",
       "\n",
       "    .dataframe thead th {\n",
       "        text-align: right;\n",
       "    }\n",
       "</style>\n",
       "<table border=\"1\" class=\"dataframe\">\n",
       "  <thead>\n",
       "    <tr style=\"text-align: right;\">\n",
       "      <th></th>\n",
       "      <th>Targets_met</th>\n",
       "      <th>Last_performance_score</th>\n",
       "      <th>Qualification</th>\n",
       "      <th>Channel_of_Recruitment</th>\n",
       "      <th>Trainings_Attended</th>\n",
       "      <th>Previous_Award</th>\n",
       "      <th>Promoted_or_Not</th>\n",
       "    </tr>\n",
       "  </thead>\n",
       "  <tbody>\n",
       "    <tr>\n",
       "      <th>0</th>\n",
       "      <td>1</td>\n",
       "      <td>12.5</td>\n",
       "      <td>MSc, MBA and PhD</td>\n",
       "      <td>Direct Internal process</td>\n",
       "      <td>2</td>\n",
       "      <td>0</td>\n",
       "      <td>0</td>\n",
       "    </tr>\n",
       "    <tr>\n",
       "      <th>1</th>\n",
       "      <td>0</td>\n",
       "      <td>12.5</td>\n",
       "      <td>First Degree or HND</td>\n",
       "      <td>Agency and others</td>\n",
       "      <td>2</td>\n",
       "      <td>0</td>\n",
       "      <td>0</td>\n",
       "    </tr>\n",
       "    <tr>\n",
       "      <th>2</th>\n",
       "      <td>0</td>\n",
       "      <td>7.5</td>\n",
       "      <td>First Degree or HND</td>\n",
       "      <td>Direct Internal process</td>\n",
       "      <td>2</td>\n",
       "      <td>0</td>\n",
       "      <td>0</td>\n",
       "    </tr>\n",
       "    <tr>\n",
       "      <th>3</th>\n",
       "      <td>0</td>\n",
       "      <td>2.5</td>\n",
       "      <td>First Degree or HND</td>\n",
       "      <td>Agency and others</td>\n",
       "      <td>3</td>\n",
       "      <td>0</td>\n",
       "      <td>0</td>\n",
       "    </tr>\n",
       "    <tr>\n",
       "      <th>4</th>\n",
       "      <td>0</td>\n",
       "      <td>7.5</td>\n",
       "      <td>First Degree or HND</td>\n",
       "      <td>Direct Internal process</td>\n",
       "      <td>3</td>\n",
       "      <td>0</td>\n",
       "      <td>0</td>\n",
       "    </tr>\n",
       "    <tr>\n",
       "      <th>...</th>\n",
       "      <td>...</td>\n",
       "      <td>...</td>\n",
       "      <td>...</td>\n",
       "      <td>...</td>\n",
       "      <td>...</td>\n",
       "      <td>...</td>\n",
       "      <td>...</td>\n",
       "    </tr>\n",
       "    <tr>\n",
       "      <th>38307</th>\n",
       "      <td>0</td>\n",
       "      <td>0.0</td>\n",
       "      <td>First Degree or HND</td>\n",
       "      <td>Direct Internal process</td>\n",
       "      <td>2</td>\n",
       "      <td>0</td>\n",
       "      <td>0</td>\n",
       "    </tr>\n",
       "    <tr>\n",
       "      <th>38308</th>\n",
       "      <td>0</td>\n",
       "      <td>5.0</td>\n",
       "      <td>MSc, MBA and PhD</td>\n",
       "      <td>Agency and others</td>\n",
       "      <td>2</td>\n",
       "      <td>0</td>\n",
       "      <td>0</td>\n",
       "    </tr>\n",
       "    <tr>\n",
       "      <th>38309</th>\n",
       "      <td>1</td>\n",
       "      <td>12.5</td>\n",
       "      <td>First Degree or HND</td>\n",
       "      <td>Agency and others</td>\n",
       "      <td>2</td>\n",
       "      <td>0</td>\n",
       "      <td>0</td>\n",
       "    </tr>\n",
       "    <tr>\n",
       "      <th>38310</th>\n",
       "      <td>0</td>\n",
       "      <td>2.5</td>\n",
       "      <td>NaN</td>\n",
       "      <td>Direct Internal process</td>\n",
       "      <td>2</td>\n",
       "      <td>0</td>\n",
       "      <td>0</td>\n",
       "    </tr>\n",
       "    <tr>\n",
       "      <th>38311</th>\n",
       "      <td>0</td>\n",
       "      <td>2.5</td>\n",
       "      <td>First Degree or HND</td>\n",
       "      <td>Agency and others</td>\n",
       "      <td>2</td>\n",
       "      <td>0</td>\n",
       "      <td>0</td>\n",
       "    </tr>\n",
       "  </tbody>\n",
       "</table>\n",
       "<p>38312 rows × 7 columns</p>\n",
       "</div>"
      ],
      "text/plain": [
       "       Targets_met  Last_performance_score        Qualification  \\\n",
       "0                1                    12.5     MSc, MBA and PhD   \n",
       "1                0                    12.5  First Degree or HND   \n",
       "2                0                     7.5  First Degree or HND   \n",
       "3                0                     2.5  First Degree or HND   \n",
       "4                0                     7.5  First Degree or HND   \n",
       "...            ...                     ...                  ...   \n",
       "38307            0                     0.0  First Degree or HND   \n",
       "38308            0                     5.0     MSc, MBA and PhD   \n",
       "38309            1                    12.5  First Degree or HND   \n",
       "38310            0                     2.5                  NaN   \n",
       "38311            0                     2.5  First Degree or HND   \n",
       "\n",
       "        Channel_of_Recruitment  Trainings_Attended  Previous_Award  \\\n",
       "0      Direct Internal process                   2               0   \n",
       "1            Agency and others                   2               0   \n",
       "2      Direct Internal process                   2               0   \n",
       "3            Agency and others                   3               0   \n",
       "4      Direct Internal process                   3               0   \n",
       "...                        ...                 ...             ...   \n",
       "38307  Direct Internal process                   2               0   \n",
       "38308        Agency and others                   2               0   \n",
       "38309        Agency and others                   2               0   \n",
       "38310  Direct Internal process                   2               0   \n",
       "38311        Agency and others                   2               0   \n",
       "\n",
       "       Promoted_or_Not  \n",
       "0                    0  \n",
       "1                    0  \n",
       "2                    0  \n",
       "3                    0  \n",
       "4                    0  \n",
       "...                ...  \n",
       "38307                0  \n",
       "38308                0  \n",
       "38309                0  \n",
       "38310                0  \n",
       "38311                0  \n",
       "\n",
       "[38312 rows x 7 columns]"
      ]
     },
     "execution_count": 85,
     "metadata": {},
     "output_type": "execute_result"
    }
   ],
   "source": [
    "promo"
   ]
  },
  {
   "cell_type": "code",
   "execution_count": 102,
   "metadata": {},
   "outputs": [
    {
     "name": "stderr",
     "output_type": "stream",
     "text": [
      "<ipython-input-102-1e18d71f74e4>:1: UserWarning: Boolean Series key will be reindexed to match DataFrame index.\n",
      "  merit = promo[promo['Targets_met']==1][promo['Last_performance_score']>=7.5][promo['Trainings_Attended']<=3][promo['Promoted_or_Not']==0][promo['Previous_Award']==0]\n",
      "<ipython-input-102-1e18d71f74e4>:1: UserWarning: Boolean Series key will be reindexed to match DataFrame index.\n",
      "  merit = promo[promo['Targets_met']==1][promo['Last_performance_score']>=7.5][promo['Trainings_Attended']<=3][promo['Promoted_or_Not']==0][promo['Previous_Award']==0]\n",
      "<ipython-input-102-1e18d71f74e4>:1: UserWarning: Boolean Series key will be reindexed to match DataFrame index.\n",
      "  merit = promo[promo['Targets_met']==1][promo['Last_performance_score']>=7.5][promo['Trainings_Attended']<=3][promo['Promoted_or_Not']==0][promo['Previous_Award']==0]\n",
      "<ipython-input-102-1e18d71f74e4>:1: UserWarning: Boolean Series key will be reindexed to match DataFrame index.\n",
      "  merit = promo[promo['Targets_met']==1][promo['Last_performance_score']>=7.5][promo['Trainings_Attended']<=3][promo['Promoted_or_Not']==0][promo['Previous_Award']==0]\n"
     ]
    }
   ],
   "source": [
    "#setting new criteria for promotion\n",
    "merit = promo[promo['Targets_met']==1][promo['Last_performance_score']>=7.5][promo['Trainings_Attended']<=3][promo['Promoted_or_Not']==0][promo['Previous_Award']==0]"
   ]
  },
  {
   "cell_type": "code",
   "execution_count": 103,
   "metadata": {},
   "outputs": [
    {
     "data": {
      "text/plain": [
       "(8864, 7)"
      ]
     },
     "execution_count": 103,
     "metadata": {},
     "output_type": "execute_result"
    }
   ],
   "source": [
    "#number of workers that deserve to be promoted\n",
    "merit.shape"
   ]
  },
  {
   "cell_type": "code",
   "execution_count": 104,
   "metadata": {},
   "outputs": [
    {
     "data": {
      "text/html": [
       "<div>\n",
       "<style scoped>\n",
       "    .dataframe tbody tr th:only-of-type {\n",
       "        vertical-align: middle;\n",
       "    }\n",
       "\n",
       "    .dataframe tbody tr th {\n",
       "        vertical-align: top;\n",
       "    }\n",
       "\n",
       "    .dataframe thead th {\n",
       "        text-align: right;\n",
       "    }\n",
       "</style>\n",
       "<table border=\"1\" class=\"dataframe\">\n",
       "  <thead>\n",
       "    <tr style=\"text-align: right;\">\n",
       "      <th></th>\n",
       "      <th>Targets_met</th>\n",
       "      <th>Last_performance_score</th>\n",
       "      <th>Qualification</th>\n",
       "      <th>Channel_of_Recruitment</th>\n",
       "      <th>Trainings_Attended</th>\n",
       "      <th>Previous_Award</th>\n",
       "      <th>Promoted_or_Not</th>\n",
       "    </tr>\n",
       "  </thead>\n",
       "  <tbody>\n",
       "    <tr>\n",
       "      <th>0</th>\n",
       "      <td>1</td>\n",
       "      <td>12.5</td>\n",
       "      <td>MSc, MBA and PhD</td>\n",
       "      <td>Direct Internal process</td>\n",
       "      <td>2</td>\n",
       "      <td>0</td>\n",
       "      <td>0</td>\n",
       "    </tr>\n",
       "    <tr>\n",
       "      <th>8</th>\n",
       "      <td>1</td>\n",
       "      <td>12.5</td>\n",
       "      <td>MSc, MBA and PhD</td>\n",
       "      <td>Direct Internal process</td>\n",
       "      <td>2</td>\n",
       "      <td>0</td>\n",
       "      <td>0</td>\n",
       "    </tr>\n",
       "    <tr>\n",
       "      <th>10</th>\n",
       "      <td>1</td>\n",
       "      <td>12.5</td>\n",
       "      <td>First Degree or HND</td>\n",
       "      <td>Direct Internal process</td>\n",
       "      <td>2</td>\n",
       "      <td>0</td>\n",
       "      <td>0</td>\n",
       "    </tr>\n",
       "    <tr>\n",
       "      <th>19</th>\n",
       "      <td>1</td>\n",
       "      <td>12.5</td>\n",
       "      <td>First Degree or HND</td>\n",
       "      <td>Agency and others</td>\n",
       "      <td>2</td>\n",
       "      <td>0</td>\n",
       "      <td>0</td>\n",
       "    </tr>\n",
       "    <tr>\n",
       "      <th>20</th>\n",
       "      <td>1</td>\n",
       "      <td>12.5</td>\n",
       "      <td>First Degree or HND</td>\n",
       "      <td>Agency and others</td>\n",
       "      <td>2</td>\n",
       "      <td>0</td>\n",
       "      <td>0</td>\n",
       "    </tr>\n",
       "  </tbody>\n",
       "</table>\n",
       "</div>"
      ],
      "text/plain": [
       "    Targets_met  Last_performance_score        Qualification  \\\n",
       "0             1                    12.5     MSc, MBA and PhD   \n",
       "8             1                    12.5     MSc, MBA and PhD   \n",
       "10            1                    12.5  First Degree or HND   \n",
       "19            1                    12.5  First Degree or HND   \n",
       "20            1                    12.5  First Degree or HND   \n",
       "\n",
       "     Channel_of_Recruitment  Trainings_Attended  Previous_Award  \\\n",
       "0   Direct Internal process                   2               0   \n",
       "8   Direct Internal process                   2               0   \n",
       "10  Direct Internal process                   2               0   \n",
       "19        Agency and others                   2               0   \n",
       "20        Agency and others                   2               0   \n",
       "\n",
       "    Promoted_or_Not  \n",
       "0                 0  \n",
       "8                 0  \n",
       "10                0  \n",
       "19                0  \n",
       "20                0  "
      ]
     },
     "execution_count": 104,
     "metadata": {},
     "output_type": "execute_result"
    }
   ],
   "source": [
    "#top 5 workers to be promoted\n",
    "merit.head()"
   ]
  }
 ],
 "metadata": {
  "kernelspec": {
   "display_name": "Python 3",
   "language": "python",
   "name": "python3"
  },
  "language_info": {
   "codemirror_mode": {
    "name": "ipython",
    "version": 3
   },
   "file_extension": ".py",
   "mimetype": "text/x-python",
   "name": "python",
   "nbconvert_exporter": "python",
   "pygments_lexer": "ipython3",
   "version": "3.8.5"
  }
 },
 "nbformat": 4,
 "nbformat_minor": 4
}
